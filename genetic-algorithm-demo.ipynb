{
 "cells": [
  {
   "cell_type": "markdown",
   "id": "ecdc53e7-6ee0-433b-9441-ae101d7c5abe",
   "metadata": {},
   "source": [
    "# A simple genetic algorithm demo\n",
    "\n",
    "A simple stochastic genetic algorithm demo, using the very simple problem of quadratic regression, to illustrate how genetic algorithms work and what makes a \"stochastic algorithm\" stochastic."
   ]
  },
  {
   "cell_type": "markdown",
   "id": "5b7c3b29-29a8-45b6-98a9-5515e4bc67db",
   "metadata": {},
   "source": [
    "### What is a Genetic Algorithm?\n",
    "\n",
    "A **genetic algorithm** is a simple type of machine learning model that uses the concept of \"genes\" and \"evolution\" to regress towards a solution to a given problem.\n",
    "\n",
    "For this demo, we will use a very simple problem: quadratic regression. The goal of the model is to find the coefficients of a second-order polynomial,\n",
    "$$ax^2 + bx + c$$"
   ]
  },
  {
   "cell_type": "markdown",
   "id": "3228eaae-b805-4675-bf6b-864f6aefb777",
   "metadata": {},
   "source": [
    "### Setup"
   ]
  },
  {
   "cell_type": "code",
   "execution_count": 40,
   "id": "0002f56c-d91c-4d14-b0a5-f1eb2db7f5da",
   "metadata": {},
   "outputs": [],
   "source": [
    "import os\n",
    "\n",
    "import matplotlib.pyplot as plt\n",
    "import seaborn as sns\n",
    "import pandas as pd\n",
    "import numpy as np"
   ]
  },
  {
   "cell_type": "code",
   "execution_count": 2,
   "id": "4fcfafd9-1612-4686-a1c2-1167770a7bd0",
   "metadata": {},
   "outputs": [],
   "source": [
    "sns.set_theme()"
   ]
  },
  {
   "cell_type": "code",
   "execution_count": 70,
   "id": "657b8003-aa90-4dcb-b32d-44b66b0a281c",
   "metadata": {},
   "outputs": [],
   "source": [
    "import random\n",
    "# random.random() returns a random float between 0.0 and 1.0; this helper\n",
    "# method returns a random float from -r to +r\n",
    "random_float = lambda r: (random.random()*2-1) * r"
   ]
  },
  {
   "cell_type": "markdown",
   "id": "467010ee-2f29-47c8-a534-dae42c90c3ad",
   "metadata": {},
   "source": [
    "### Simulation Environment\n",
    "\n",
    "The **environment** of a genetic algorithm is the \"problem\" we are trying to \"solve\". For our simple linear regression case, this will be just a dataset to find the best-fit line of, but in more complicated scenarios, this might be a race track or a simple game."
   ]
  },
  {
   "cell_type": "code",
   "execution_count": 117,
   "id": "c3612ae0-f8de-4ec8-87f2-adf56df6ebd4",
   "metadata": {},
   "outputs": [],
   "source": [
    "class Environment:\n",
    "    def __init__(self, a, b, c, randomness_scale):\n",
    "        # define our parameters\n",
    "        self.true_a = a\n",
    "        self.true_b = b\n",
    "        self.true_c = c\n",
    "        self.randomness_scale = randomness_scale\n",
    "        self.generate_data()\n",
    "\n",
    "    def generate_data(self):\n",
    "        # generate 50 evenly-spaced xs between -20 and 20\n",
    "        self.xs = np.linspace(-20, 20, num=50)\n",
    "        self.ys = [\n",
    "            self.calculate(x) + random_float(self.randomness_scale)\n",
    "            for x in self.xs\n",
    "        ]\n",
    "\n",
    "    def calculate(self, x):\n",
    "        return self.true_a * x*x + self.true_b * x + self.true_c\n",
    "\n",
    "    def graph(self):\n",
    "        # display scatterplot\n",
    "        plt.scatter(x=self.xs, y=self.ys)\n",
    "        # approximate parabola with 1000 points\n",
    "        approx_xs = np.linspace(-20, 20, num=1000)\n",
    "        plt.plot(approx_xs, self.calculate(approx_xs))"
   ]
  },
  {
   "cell_type": "code",
   "execution_count": 118,
   "id": "e5c934b8-e603-4bce-806a-eb666c99fa35",
   "metadata": {},
   "outputs": [
    {
     "data": {
      "image/png": "[encoded data removed]",
      "text/plain": [
       "<Figure size 640x480 with 1 Axes>"
      ]
     },
     "metadata": {},
     "output_type": "display_data"
    }
   ],
   "source": [
    "env = Environment(a=0.2, b=2.3, c=-16.8, randomness_scale=4.0)\n",
    "env.graph()"
   ]
  },
  {
   "cell_type": "markdown",
   "id": "51b13432-9bf1-4003-8976-b308ac213552",
   "metadata": {},
   "source": [
    "### Defining the Actors\n",
    "\n",
    "The **actors** in a genetic algorithm can be thought of as the \"creatures\" who we are simulating the genetic evolution of. Their behaviors are defined by their **genes**. In this case, with a simple quadratic regression, our `Actor` class contains only three genes: `a`, `b`, and `c`."
   ]
  },
  {
   "cell_type": "code",
   "execution_count": 119,
   "id": "5c2b8380-39be-4ea2-9d80-4b68d59ab422",
   "metadata": {},
   "outputs": [],
   "source": [
    "class Actor:\n",
    "    def __init__(self, a, b, c):\n",
    "        self.a = a\n",
    "        self.b = b\n",
    "        self.c = c\n",
    "\n",
    "    def __str__(self):\n",
    "        return f'a={actors[0].a:.2f} b={actors[0].b:.2f} c={actors[0].c:.2f}'"
   ]
  },
  {
   "cell_type": "markdown",
   "id": "baa3ab9a-4af2-40ba-8df9-083ccd666978",
   "metadata": {},
   "source": [
    "Let's initialize, say, 100 actors, with initial genes as random values that make sense for this simulation."
   ]
  },
  {
   "cell_type": "code",
   "execution_count": 120,
   "id": "f6cc20ef-44fa-45aa-8794-3590e292e741",
   "metadata": {},
   "outputs": [],
   "source": [
    "def generate_initial_actors(n=100):\n",
    "    return [\n",
    "        Actor(\n",
    "            a = random_float(1),\n",
    "            b = random_float(10),\n",
    "            c = random_float(100)\n",
    "        ) for _ in range(n)\n",
    "    ]"
   ]
  },
  {
   "cell_type": "markdown",
   "id": "035d3ce6-1ffd-48a5-ba57-b5e99d6113ef",
   "metadata": {},
   "source": [
    "### Fitness function\n",
    "\n",
    "The **fitness function** is what determines how \"good\" certain genes are. In our case, with a simple quadratic regression, we'll use the the sum of the squared errors, where in our case a lower fitness is better.\n",
    "\n",
    "We will also add in a small jitter factor to the error, since in the real world, the fitness function would not know the actual parameters of the environment. Instead, it would measure fitness based on the actor's performance on some given task."
   ]
  },
  {
   "cell_type": "code",
   "execution_count": 187,
   "id": "e2bfbae5-368d-4ff6-ac6d-2fe446bb1dcb",
   "metadata": {},
   "outputs": [],
   "source": [
    "def fitness(environment, actor):\n",
    "    # remember, our environment is simply a scatterplot dataset!\n",
    "    accum = 0\n",
    "    for x,y in zip(environment.xs, environment.ys):\n",
    "        pred = actor.a * x*x + actor.b * x + actor.c\n",
    "        sqerror = (y - pred) ** 2\n",
    "        jitter = sqerror * random_float(0.0000001)\n",
    "        accum += sqerror + jitter\n",
    "    return accum / len(environment.xs)\n",
    "\n",
    "# save this method to our Environment class\n",
    "Environment.fitness = fitness"
   ]
  },
  {
   "cell_type": "markdown",
   "id": "a0c38e53-3096-4ed1-93d3-8d10a88b2c5b",
   "metadata": {},
   "source": [
    "### Simulate!\n",
    "\n",
    "That's all we need to start the simulations! The simulation itself follows these three steps:\n",
    "1. Score each actor, and calculate its fitness\n",
    "2. Keep only the top actors (we'll keep the top 10%)\n",
    "3. Breed the top actors to create the next generation\n",
    "\n",
    "Since this is a very simple problem, we'll only do 5 steps."
   ]
  },
  {
   "cell_type": "code",
   "execution_count": 188,
   "id": "3df1cdbc-9e1f-4ae3-b5b4-02fa46479524",
   "metadata": {},
   "outputs": [],
   "source": [
    "def evolution_step(env, actors):\n",
    "    # 1. score each actor\n",
    "    for actor in actors:\n",
    "        actor.fitness = env.fitness(actor)\n",
    "\n",
    "    # 2. sort and keep only the top 10%\n",
    "    n_actors = len(actors)\n",
    "    n_top_10 = n_actors // 10\n",
    "    actors = sorted(actors, key=lambda actor: actor.fitness)\n",
    "    actors = actors[:n_top_10]\n",
    "\n",
    "    # 3. generate new actors based on the top 10%\n",
    "    new_actors = []\n",
    "    for newi in range(n_actors - n_top_10):\n",
    "        parent = random.choice(actors)\n",
    "        child = Actor(\n",
    "            a = parent.a + random_float(0.1),\n",
    "            b = parent.b + random_float(1),\n",
    "            c = parent.c + random_float(10)\n",
    "        )\n",
    "        new_actors.append(child)\n",
    "    actors.extend(new_actors)\n",
    "\n",
    "    return actors"
   ]
  },
  {
   "cell_type": "code",
   "execution_count": 189,
   "id": "62cf9b7c-cffe-4b87-8b30-fce0b06c7b40",
   "metadata": {},
   "outputs": [
    {
     "name": "stdout",
     "output_type": "stream",
     "text": [
      "round  1, top fitness  68449.1\n",
      "round  2, top fitness  62449.3\n",
      "round  3, top fitness  55991.6\n",
      "round  4, top fitness  50020.0\n",
      "round  5, top fitness  45459.0\n",
      "round  6, top fitness  40704.6\n",
      "round  7, top fitness  36159.5\n",
      "round  8, top fitness  33567.3\n",
      "round  9, top fitness  29942.6\n",
      "round 10, top fitness  26670.3\n",
      "round 11, top fitness  23693.2\n",
      "round 12, top fitness  20228.6\n",
      "round 13, top fitness  17063.8\n",
      "round 14, top fitness  14764.7\n",
      "round 15, top fitness  11972.2\n",
      "round 16, top fitness  9353.5\n",
      "round 17, top fitness  7090.2\n",
      "round 18, top fitness  5273.8\n",
      "round 19, top fitness  4455.0\n",
      "round 20, top fitness  3191.8\n",
      "Best evolved actor has genes a=0.46 b=-25.87 c=-92.46\n"
     ]
    }
   ],
   "source": [
    "# generate initial actors\n",
    "actors = generate_initial_actors()\n",
    "\n",
    "# run evolution simulation\n",
    "num_iters = 20\n",
    "for i in range(1, num_iters+1):\n",
    "    actors = evolution_step(env, actors)\n",
    "\n",
    "    # let's also print the top fitness every iteration, to see how we're doing\n",
    "    print(f'round {i:2d}, top fitness {actors[0].fitness : .1f}')\n",
    "\n",
    "# display best evolved actor\n",
    "print(f'Best evolved actor has genes {actors[0]}')"
   ]
  },
  {
   "cell_type": "markdown",
   "id": "754035ed-1602-40be-902b-ceecb9363280",
   "metadata": {},
   "source": [
    "### Results\n",
    "\n",
    "And that's all there is to it! Let's display this as a graph, and see how good our genetic algorithm did. The blue scatterplot is our original data, while the orange line is the best-fit agent:"
   ]
  },
  {
   "cell_type": "code",
   "execution_count": 190,
   "id": "2635f9d7-0e30-4414-b7c7-daee8b2a34f1",
   "metadata": {},
   "outputs": [
    {
     "data": {
      "text/plain": [
       "[<matplotlib.lines.Line2D at 0x6cd22ee00a50>]"
      ]
     },
     "execution_count": 190,
     "metadata": {},
     "output_type": "execute_result"
    },
    {
     "data": {
      "image/png": "[encoded data removed]",
      "text/plain": [
       "<Figure size 640x480 with 1 Axes>"
      ]
     },
     "metadata": {},
     "output_type": "display_data"
    }
   ],
   "source": [
    "bhue, ohue, *_ = sns.color_palette()\n",
    "\n",
    "# display environment scatterplot\n",
    "plt.scatter(x=env.xs, y=env.ys, color=bhue)\n",
    "\n",
    "# approximate parabolas with 1000 points\n",
    "approx_xs = np.linspace(-20, 20, num=1000)\n",
    "\n",
    "# true environment parabola\n",
    "plt.plot(approx_xs, env.calculate(approx_xs), color=bhue)\n",
    "\n",
    "# best-fit actor parabola\n",
    "best_fit = lambda x: actors[0].a * x*x + actors[0].b * x + actors[0].c\n",
    "plt.plot(approx_xs, best_fit(approx_xs), color=ohue)"
   ]
  },
  {
   "cell_type": "markdown",
   "id": "ad6ba870-be13-4141-9d0c-60a2091c6915",
   "metadata": {},
   "source": [
    "### Stochastic Nature\n",
    "\n",
    "This genetic algorithm can be said to be **stochastic** in nature, which means in some way it is inherently random. In this case, this randomness comes both from the initialization of random genes and from the random perturbations applied to the best genes in the breeding step. \n",
    "\n",
    "To exemplify this, if we, using the same environment, run the algorithm again, we will get a slightly different result:"
   ]
  },
  {
   "cell_type": "code",
   "execution_count": 191,
   "id": "ca96ac3e-7c9e-4064-b5f3-4da4a791e7cb",
   "metadata": {},
   "outputs": [
    {
     "name": "stdout",
     "output_type": "stream",
     "text": [
      "Best evolved actor has genes a=0.63 b=-24.75 c=-112.25\n",
      "Best evolved actor has genes a=0.71 b=-25.99 c=-113.23\n",
      "Best evolved actor has genes a=0.75 b=-26.99 c=-133.73\n",
      "Best evolved actor has genes a=0.80 b=-25.34 c=-129.08\n",
      "Best evolved actor has genes a=0.62 b=-25.00 c=-107.65\n"
     ]
    }
   ],
   "source": [
    "for i in range(5):\n",
    "    # generate a new set of initial actors\n",
    "    actors = generate_initial_actors()\n",
    "\n",
    "    # run evolution simulation again\n",
    "    for j in range(1, num_iters+1):\n",
    "        actors = evolution_step(env, actors)\n",
    "    \n",
    "    # display the new best evolved actor\n",
    "    print(f'Best evolved actor has genes {actors[0]}')"
   ]
  },
  {
   "cell_type": "markdown",
   "id": "91852c7f-5888-41d4-9b0f-7f43ae12a818",
   "metadata": {},
   "source": [
    "Of course, this \"randomness\" has mitigations; you can use less randomness, or more generations, or a higher population, etc etc, but this randomness is what makes a stochastic algorithm, stochastic. This notebook uses a very low number of generations (20) to highlight this effect."
   ]
  },
  {
   "cell_type": "markdown",
   "id": "a107dab2-0f52-42f5-9979-e37ffde5c7aa",
   "metadata": {},
   "source": [
    "### Try It!\n",
    "\n",
    "The below cells define a few helper methods, and below that, an interactive demo to play with our simple genetic algorithm. Simply run the cells and scroll to the bottom to use the demo."
   ]
  },
  {
   "cell_type": "code",
   "execution_count": 192,
   "id": "22a4e1c9-3f60-4eb5-b09b-05ccd1145b81",
   "metadata": {},
   "outputs": [],
   "source": [
    "def run_simulation(env, niter, nactor, pkeep, pdistrib):\n",
    "    # define initial conditions\n",
    "    print(f'Environment params {Actor(env.true_a, env.true_b, env.true_c)}')\n",
    "    actors = generate_initial_actors(n=nactor)\n",
    "    history = { gene: [] for gene in ('a', 'b', 'c', 'fitness') }\n",
    "    \n",
    "    # run genetic algorithm\n",
    "    for i in range(niter):\n",
    "        \n",
    "        # calculate fitness\n",
    "        for actor in actors:\n",
    "            actor.fitness = env.fitness(actor)\n",
    "\n",
    "        # track genetic history\n",
    "        history['a'      ].append([actor.a       for actor in actors])\n",
    "        history['b'      ].append([actor.b       for actor in actors])\n",
    "        history['c'      ].append([actor.c       for actor in actors])\n",
    "        history['fitness'].append([actor.fitness for actor in actors])\n",
    "\n",
    "        # keep top %\n",
    "        n_top = round(nactor * pkeep)\n",
    "        actors = sorted(actors, key=lambda actor: actor.fitness)\n",
    "        actors = actors[:n_top]\n",
    "\n",
    "        # breed new population\n",
    "        rng_scale = (1.0-pdistrib) ** i\n",
    "        new_actors = []\n",
    "        for newi in range(nactor - n_top):\n",
    "            parent = random.choice(actors)\n",
    "            child = Actor(\n",
    "                a = parent.a + random_float(  1 * rng_scale),\n",
    "                b = parent.b + random_float( 10 * rng_scale),\n",
    "                c = parent.c + random_float(100 * rng_scale)\n",
    "            )\n",
    "            new_actors.append(child)\n",
    "        actors.extend(new_actors)\n",
    "\n",
    "    # any closing statements?\n",
    "    print(f'Best evolved actor after {niter} steps has genes {actors[0]}')\n",
    "    return history"
   ]
  },
  {
   "cell_type": "code",
   "execution_count": 193,
   "id": "d935e412-6989-44e8-a714-646d8bdec4cf",
   "metadata": {},
   "outputs": [
    {
     "data": {
      "application/vnd.jupyter.widget-view+json": {
       "model_id": "9508e9d6dfd641c8b9e02be0f74b752a",
       "version_major": 2,
       "version_minor": 0
      },
      "text/plain": [
       "Label(value='Environment settings')"
      ]
     },
     "metadata": {},
     "output_type": "display_data"
    },
    {
     "data": {
      "application/vnd.jupyter.widget-view+json": {
       "model_id": "29abcdae62514da4be3e32e72a438e51",
       "version_major": 2,
       "version_minor": 0
      },
      "text/plain": [
       "FloatSlider(value=0.7, description='True \\\\(a\\\\):', layout=Layout(width='500px'), max=5.0, min=-5.0, style=Sli…"
      ]
     },
     "metadata": {},
     "output_type": "display_data"
    },
    {
     "data": {
      "application/vnd.jupyter.widget-view+json": {
       "model_id": "441359a6ff174fc996b95edbd30e69a7",
       "version_major": 2,
       "version_minor": 0
      },
      "text/plain": [
       "FloatSlider(value=-30.0, description='True \\\\(b\\\\):', layout=Layout(width='500px'), max=50.0, min=-50.0, style…"
      ]
     },
     "metadata": {},
     "output_type": "display_data"
    },
    {
     "data": {
      "application/vnd.jupyter.widget-view+json": {
       "model_id": "5787df1f9c3f437a8a7b43a85a895550",
       "version_major": 2,
       "version_minor": 0
      },
      "text/plain": [
       "FloatSlider(value=-131.0, description='True \\\\(c\\\\):', layout=Layout(width='500px'), max=500.0, min=-500.0, st…"
      ]
     },
     "metadata": {},
     "output_type": "display_data"
    },
    {
     "data": {
      "application/vnd.jupyter.widget-view+json": {
       "model_id": "11cb8902c368459b9216d4b9e77cb5d8",
       "version_major": 2,
       "version_minor": 0
      },
      "text/plain": [
       "FloatLogSlider(value=4.0, description='Randomness scale:', layout=Layout(width='500px'), max=10.0, style=Slide…"
      ]
     },
     "metadata": {},
     "output_type": "display_data"
    },
    {
     "data": {
      "application/vnd.jupyter.widget-view+json": {
       "model_id": "96e248e403ed4302a97ba22f740849a1",
       "version_major": 2,
       "version_minor": 0
      },
      "text/plain": [
       "Button(description='Create Environment', style=ButtonStyle(), tooltip='Re-create the environment with the give…"
      ]
     },
     "metadata": {},
     "output_type": "display_data"
    },
    {
     "data": {
      "application/vnd.jupyter.widget-view+json": {
       "model_id": "6005147037de4131b89e02157f9da862",
       "version_major": 2,
       "version_minor": 0
      },
      "text/plain": [
       "Label(value='Evolution settings')"
      ]
     },
     "metadata": {},
     "output_type": "display_data"
    },
    {
     "data": {
      "application/vnd.jupyter.widget-view+json": {
       "model_id": "b4f394c8f2554fb99a858cd235963530",
       "version_major": 2,
       "version_minor": 0
      },
      "text/plain": [
       "IntSlider(value=10, description='Evolution steps:', layout=Layout(width='500px'), max=40, style=SliderStyle(de…"
      ]
     },
     "metadata": {},
     "output_type": "display_data"
    },
    {
     "data": {
      "application/vnd.jupyter.widget-view+json": {
       "model_id": "866fb93133ff45d48e889db90c08a586",
       "version_major": 2,
       "version_minor": 0
      },
      "text/plain": [
       "IntSlider(value=100, description='Number of actors:', layout=Layout(width='500px'), max=200, min=10, step=5, s…"
      ]
     },
     "metadata": {},
     "output_type": "display_data"
    },
    {
     "data": {
      "application/vnd.jupyter.widget-view+json": {
       "model_id": "a7e951dab08246ceabab755117be91e8",
       "version_major": 2,
       "version_minor": 0
      },
      "text/plain": [
       "FloatSlider(value=0.1, description='Top % to keep:', layout=Layout(width='500px'), max=1.0, step=0.05, style=S…"
      ]
     },
     "metadata": {},
     "output_type": "display_data"
    },
    {
     "data": {
      "application/vnd.jupyter.widget-view+json": {
       "model_id": "94b5beb08c3046d79b61b26205250823",
       "version_major": 2,
       "version_minor": 0
      },
      "text/plain": [
       "FloatSlider(value=0.4, description='Gene distrib shrink %:', layout=Layout(width='500px'), max=1.0, step=0.05,…"
      ]
     },
     "metadata": {},
     "output_type": "display_data"
    },
    {
     "data": {
      "application/vnd.jupyter.widget-view+json": {
       "model_id": "83c5f7dbe78148cfb64ae3510d505f49",
       "version_major": 2,
       "version_minor": 0
      },
      "text/plain": [
       "Button(description='Run Simulation', style=ButtonStyle(), tooltip='Run a simulation with the given settings.')"
      ]
     },
     "metadata": {},
     "output_type": "display_data"
    },
    {
     "data": {
      "application/vnd.jupyter.widget-view+json": {
       "model_id": "e313434383574c6c8ee34185f58734bc",
       "version_major": 2,
       "version_minor": 0
      },
      "text/plain": [
       "Output()"
      ]
     },
     "metadata": {},
     "output_type": "display_data"
    }
   ],
   "source": [
    "import ipywidgets\n",
    "from IPython.display import display\n",
    "\n",
    "slider_styling = {\n",
    "    'style': {'description_width': '150px'},\n",
    "    'layout': {'width': '500px'}\n",
    "}\n",
    "out = ipywidgets.Output()\n",
    "\n",
    "# ==========\n",
    "display(ipywidgets.Label(value='Environment settings'))\n",
    "\n",
    "true_a_widget = ipywidgets.FloatSlider(\n",
    "    description=r'True \\(a\\):',\n",
    "    value=0.7, min=-5, max=5,\n",
    "    **slider_styling\n",
    ")\n",
    "display(true_a_widget)\n",
    "\n",
    "true_b_widget = ipywidgets.FloatSlider(\n",
    "    description=r'True \\(b\\):',\n",
    "    value=-30, min=-50, max=50,\n",
    "    **slider_styling\n",
    ")\n",
    "display(true_b_widget)\n",
    "\n",
    "true_c_widget = ipywidgets.FloatSlider(\n",
    "    description=r'True \\(c\\):',\n",
    "    value=-131, min=-500, max=500,\n",
    "    **slider_styling\n",
    ")\n",
    "display(true_c_widget)\n",
    "\n",
    "randomness_scale_widget = ipywidgets.FloatLogSlider(\n",
    "    description='Randomness scale:',\n",
    "    value=4.0, min=0.0, max=10.0,\n",
    "    **slider_styling\n",
    ")\n",
    "display(randomness_scale_widget)\n",
    "\n",
    "env_button_widget = ipywidgets.Button(\n",
    "    description='Create Environment',\n",
    "    tooltip='Re-create the environment with the given settings.'\n",
    ")\n",
    "display(env_button_widget)\n",
    "\n",
    "# ==========\n",
    "display(ipywidgets.Label(value='Evolution settings'))\n",
    "\n",
    "num_iters_widget = ipywidgets.IntSlider(\n",
    "    description='Evolution steps:',\n",
    "    value=10, min=0, max=40,\n",
    "    **slider_styling\n",
    ")\n",
    "display(num_iters_widget)\n",
    "\n",
    "num_actors_widget = ipywidgets.IntSlider(\n",
    "    description='Number of actors:',\n",
    "    value=100, min=10, max=200, step=5,\n",
    "    **slider_styling\n",
    ")\n",
    "display(num_actors_widget)\n",
    "\n",
    "percent_keep_widget = ipywidgets.FloatSlider(\n",
    "    description='Top % to keep:',\n",
    "    value=0.1, min=0.0, max=1.0, step=0.05,\n",
    "    **slider_styling\n",
    ")\n",
    "display(percent_keep_widget)\n",
    "\n",
    "percent_distrib_widget = ipywidgets.FloatSlider(\n",
    "    description='Gene distrib shrink %:',\n",
    "    value=0.4, min=0.0, max=1.0, step=0.05,\n",
    "    **slider_styling\n",
    ")\n",
    "display(percent_distrib_widget)\n",
    "\n",
    "# ==========\n",
    "run_button_widget = ipywidgets.Button(\n",
    "    description='Run Simulation',\n",
    "    tooltip='Run a simulation with the given settings.'\n",
    ")\n",
    "display(run_button_widget)\n",
    "\n",
    "# ==========\n",
    "\n",
    "@out.capture(clear_output=True, wait=True)\n",
    "def env_button(button):\n",
    "    global env\n",
    "    a = true_a_widget.value\n",
    "    b = true_b_widget.value\n",
    "    c = true_c_widget.value\n",
    "    r = randomness_scale_widget.value\n",
    "    env = Environment(a, b, c, r)\n",
    "    # display scatterplot\n",
    "    plt.scatter(x=env.xs, y=env.ys)\n",
    "    # approximate parabola with 1000 points\n",
    "    approx_xs = np.linspace(-20, 20, num=1000)\n",
    "    plt.plot(approx_xs, env.calculate(approx_xs))\n",
    "    plt.show()\n",
    "\n",
    "@out.capture(clear_output=True, wait=True)\n",
    "def run_button(button):\n",
    "    # run simulation\n",
    "    global env\n",
    "    niter = num_iters_widget.value\n",
    "    nactor = num_actors_widget.value\n",
    "    pkeep = percent_keep_widget.value\n",
    "    pdistrib = percent_distrib_widget.value\n",
    "    history = run_simulation(env, niter, nactor, pkeep, pdistrib)\n",
    "    # display evolution of genes over time\n",
    "    fig, ax = plt.subplots(3, sharex=True)\n",
    "    plt.xticks([i+1 for i in range(nactor)])\n",
    "    plt.xlabel('Iteration')\n",
    "    ahue, bhue, chue, *_ = sns.color_palette()\n",
    "    for i in range(niter):\n",
    "        sns.scatterplot(\n",
    "            x=[i+1 for _ in range(nactor)], y=history['a'][i],\n",
    "            color=ahue,\n",
    "            markers=False,\n",
    "            ax=ax[0])\n",
    "        sns.scatterplot(\n",
    "            x=[i+1 for _ in range(nactor)], y=history['b'][i],\n",
    "            color=bhue,\n",
    "            markers=False,\n",
    "            ax=ax[1])\n",
    "        sns.scatterplot(\n",
    "            x=[i+1 for _ in range(nactor)], y=history['c'][i],\n",
    "            color=chue,\n",
    "            markers=False,\n",
    "            ax=ax[2])\n",
    "    # mark actual environment\n",
    "    ax[0].axhline(y=env.true_a, color=ahue)\n",
    "    ax[1].axhline(y=env.true_b, color=bhue)\n",
    "    ax[2].axhline(y=env.true_c, color=chue)\n",
    "    plt.show()\n",
    "\n",
    "env_button_widget.on_click(env_button)\n",
    "run_button_widget.on_click(run_button)\n",
    "\n",
    "display(out)"
   ]
  },
  {
   "cell_type": "code",
   "execution_count": null,
   "id": "5e4accc1-404d-43d6-a8b4-27d7c724a55c",
   "metadata": {},
   "outputs": [],
   "source": []
  }
 ],
 "metadata": {
  "kernelspec": {
   "display_name": "Python 3 (ipykernel)",
   "language": "python",
   "name": "python3"
  },
  "language_info": {
   "codemirror_mode": {
    "name": "ipython",
    "version": 3
   },
   "file_extension": ".py",
   "mimetype": "text/x-python",
   "name": "python",
   "nbconvert_exporter": "python",
   "pygments_lexer": "ipython3",
   "version": "3.13.3"
  }
 },
 "nbformat": 4,
 "nbformat_minor": 5
}
